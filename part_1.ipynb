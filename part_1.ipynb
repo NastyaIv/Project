{
 "cells": [
  {
   "cell_type": "code",
   "execution_count": 2,
   "metadata": {},
   "outputs": [],
   "source": [
    "import pandas as pd ## Обновить pandas до последней версии\n",
    "import numpy as np\n",
    "import math\n",
    "import os\n",
    "import glob\n",
    "import mysql.connector\n",
    "import datetime\n",
    "from mysql.connector import errorcode\n",
    "from sklearn import preprocessing\n",
    "from sklearn import metrics\n",
    "\n",
    "import matplotlib.pyplot as plt\n",
    "import pandas.core.algorithms as algos\n",
    "from pandas import Series\n",
    "import scipy.stats.stats as stats\n",
    "import re\n",
    "import traceback\n",
    "from datetime import date\n",
    "import string\n",
    "\n",
    "from os import listdir\n",
    "from os.path import isfile, join\n",
    "\n",
    "\n",
    "import warnings\n",
    "warnings.filterwarnings(\"ignore\")"
   ]
  },
  {
   "cell_type": "code",
   "execution_count": 3,
   "metadata": {},
   "outputs": [],
   "source": [
    "user = 'project_user'\n",
    "database = 'project_db'"
   ]
  },
  {
   "cell_type": "markdown",
   "metadata": {},
   "source": [
    "#### Блок Ивахненко Анастасии"
   ]
  },
  {
   "cell_type": "code",
   "execution_count": 4,
   "metadata": {},
   "outputs": [],
   "source": [
    "my_path = 'C:\\\\Users\\\\User\\\\Documents\\\\Python Scripts\\\\IT\\\\Untitled Folder' "
   ]
  },
  {
   "cell_type": "code",
   "execution_count": 5,
   "metadata": {},
   "outputs": [],
   "source": [
    "applications = [f for f in listdir(my_path+'/applications') if isfile(join(my_path+'/applications', f))] \n",
    "contracts = [f for f in listdir(my_path+'/contracts') if isfile(join(my_path+'/contracts', f))]"
   ]
  },
  {
   "cell_type": "code",
   "execution_count": 6,
   "metadata": {},
   "outputs": [],
   "source": [
    "df = pd.read_excel(my_path+'/applications/' + applications[0], header = None, usecols = [0, 3, 4, 5, 6, 7, 8, 12, 14]) \n",
    "#Читаем первый excel, чтобы получить названия колонок"
   ]
  },
  {
   "cell_type": "code",
   "execution_count": 7,
   "metadata": {
    "scrolled": true
   },
   "outputs": [],
   "source": [
    "columns = [df[0][4], df[0][13], df[0][15], df[0][17], df[0][19], df[1][4], df[2][6], df[2][17], df[3][6], df[4][2], df[4][6],\n",
    "          df[5][2], df[6][2], df[6][4], df[7][8], 'application_date', df[8][2]]\n",
    "#список с названиями колнок"
   ]
  },
  {
   "cell_type": "code",
   "execution_count": 8,
   "metadata": {},
   "outputs": [],
   "source": [
    "values = []\n",
    "for i in applications:\n",
    "    df = pd.read_excel(my_path+'/applications/' + i, header = None, usecols = [0, 3, 4, 5, 6, 7, 8, 12, 14])\n",
    "    if df.shape[0] < 21:\n",
    "        df.loc[20] = np.nan\n",
    "    values.append((df[0][5], df[0][14], df[0][16], df[0][18], df[0][20], df[1][5], df[2][7], df[2][18], \n",
    "                   df[3][7], df[4][3], df[4][7], df[5][3], df[6][3], df[6][5], df[7][9], df[8][1], df[8][3]))"
   ]
  },
  {
   "cell_type": "code",
   "execution_count": 9,
   "metadata": {},
   "outputs": [
    {
     "data": {
      "text/html": [
       "<div>\n",
       "<style scoped>\n",
       "    .dataframe tbody tr th:only-of-type {\n",
       "        vertical-align: middle;\n",
       "    }\n",
       "\n",
       "    .dataframe tbody tr th {\n",
       "        vertical-align: top;\n",
       "    }\n",
       "\n",
       "    .dataframe thead th {\n",
       "        text-align: right;\n",
       "    }\n",
       "</style>\n",
       "<table border=\"1\" class=\"dataframe\">\n",
       "  <thead>\n",
       "    <tr style=\"text-align: right;\">\n",
       "      <th></th>\n",
       "      <th>Identity Number</th>\n",
       "      <th>Income</th>\n",
       "      <th>Income Type</th>\n",
       "      <th>Housing</th>\n",
       "      <th>Age of Car (if owned)</th>\n",
       "      <th>Issue Date</th>\n",
       "      <th>Children</th>\n",
       "      <th>House ownership</th>\n",
       "      <th>Family</th>\n",
       "      <th>Date of Birth</th>\n",
       "      <th>Marital Status</th>\n",
       "      <th>Gender</th>\n",
       "      <th>Employed By</th>\n",
       "      <th>Education</th>\n",
       "      <th>Position</th>\n",
       "      <th>application_date</th>\n",
       "      <th>Date appointed</th>\n",
       "    </tr>\n",
       "  </thead>\n",
       "  <tbody>\n",
       "    <tr>\n",
       "      <th>0</th>\n",
       "      <td>100003</td>\n",
       "      <td>270000.0</td>\n",
       "      <td>State servant</td>\n",
       "      <td>House / apartment</td>\n",
       "      <td>NaN</td>\n",
       "      <td>08.29.2013</td>\n",
       "      <td>0.0</td>\n",
       "      <td>N</td>\n",
       "      <td>2.0</td>\n",
       "      <td>07.22.1968</td>\n",
       "      <td>Married</td>\n",
       "      <td>Female</td>\n",
       "      <td>School</td>\n",
       "      <td>Higher education</td>\n",
       "      <td>Core staff</td>\n",
       "      <td>06.16.2014</td>\n",
       "      <td>03.16.2011</td>\n",
       "    </tr>\n",
       "    <tr>\n",
       "      <th>1</th>\n",
       "      <td>100004</td>\n",
       "      <td>67500.0</td>\n",
       "      <td>Working</td>\n",
       "      <td>House / apartment</td>\n",
       "      <td>26.0</td>\n",
       "      <td>01.28.2010</td>\n",
       "      <td>0.0</td>\n",
       "      <td>Y</td>\n",
       "      <td>1.0</td>\n",
       "      <td>1964-10-11 00:00:00</td>\n",
       "      <td>Single / not married</td>\n",
       "      <td>Male</td>\n",
       "      <td>Government</td>\n",
       "      <td>Secondary / secondary special</td>\n",
       "      <td>Laborers</td>\n",
       "      <td>2017-02-01 00:00:00</td>\n",
       "      <td>05.22.2016</td>\n",
       "    </tr>\n",
       "    <tr>\n",
       "      <th>2</th>\n",
       "      <td>100006</td>\n",
       "      <td>135000.0</td>\n",
       "      <td>Working</td>\n",
       "      <td>House / apartment</td>\n",
       "      <td>NaN</td>\n",
       "      <td>2010-08-01 00:00:00</td>\n",
       "      <td>0.0</td>\n",
       "      <td>Y</td>\n",
       "      <td>2.0</td>\n",
       "      <td>08.29.1964</td>\n",
       "      <td>Civil marriage</td>\n",
       "      <td>Female</td>\n",
       "      <td>Business Entity Type 3</td>\n",
       "      <td>Secondary / secondary special</td>\n",
       "      <td>Laborers</td>\n",
       "      <td>2016-10-09 00:00:00</td>\n",
       "      <td>05.16.2008</td>\n",
       "    </tr>\n",
       "    <tr>\n",
       "      <th>3</th>\n",
       "      <td>100007</td>\n",
       "      <td>121500.0</td>\n",
       "      <td>Working</td>\n",
       "      <td>House / apartment</td>\n",
       "      <td>NaN</td>\n",
       "      <td>03.18.2008</td>\n",
       "      <td>0.0</td>\n",
       "      <td>Y</td>\n",
       "      <td>1.0</td>\n",
       "      <td>1963-09-02 00:00:00</td>\n",
       "      <td>Single / not married</td>\n",
       "      <td>Male</td>\n",
       "      <td>Religion</td>\n",
       "      <td>Secondary / secondary special</td>\n",
       "      <td>Core staff</td>\n",
       "      <td>2017-05-09 00:00:00</td>\n",
       "      <td>2009-12-05 00:00:00</td>\n",
       "    </tr>\n",
       "  </tbody>\n",
       "</table>\n",
       "</div>"
      ],
      "text/plain": [
       "   Identity Number    Income    Income Type            Housing  \\\n",
       "0           100003  270000.0  State servant  House / apartment   \n",
       "1           100004   67500.0        Working  House / apartment   \n",
       "2           100006  135000.0        Working  House / apartment   \n",
       "3           100007  121500.0        Working  House / apartment   \n",
       "\n",
       "   Age of Car (if owned)           Issue Date  Children House ownership  \\\n",
       "0                    NaN           08.29.2013       0.0               N   \n",
       "1                   26.0           01.28.2010       0.0               Y   \n",
       "2                    NaN  2010-08-01 00:00:00       0.0               Y   \n",
       "3                    NaN           03.18.2008       0.0               Y   \n",
       "\n",
       "   Family        Date of Birth        Marital Status  Gender  \\\n",
       "0     2.0           07.22.1968               Married  Female   \n",
       "1     1.0  1964-10-11 00:00:00  Single / not married    Male   \n",
       "2     2.0           08.29.1964        Civil marriage  Female   \n",
       "3     1.0  1963-09-02 00:00:00  Single / not married    Male   \n",
       "\n",
       "              Employed By                      Education    Position  \\\n",
       "0                  School               Higher education  Core staff   \n",
       "1              Government  Secondary / secondary special    Laborers   \n",
       "2  Business Entity Type 3  Secondary / secondary special    Laborers   \n",
       "3                Religion  Secondary / secondary special  Core staff   \n",
       "\n",
       "      application_date       Date appointed  \n",
       "0           06.16.2014           03.16.2011  \n",
       "1  2017-02-01 00:00:00           05.22.2016  \n",
       "2  2016-10-09 00:00:00           05.16.2008  \n",
       "3  2017-05-09 00:00:00  2009-12-05 00:00:00  "
      ]
     },
     "execution_count": 9,
     "metadata": {},
     "output_type": "execute_result"
    }
   ],
   "source": [
    "applic_df = pd.DataFrame(data = values, columns = columns)\n",
    "applic_df.head(4)"
   ]
  },
  {
   "cell_type": "code",
   "execution_count": 10,
   "metadata": {},
   "outputs": [],
   "source": [
    "applic_df = applic_df.drop(['Date appointed'], axis = 1)\n",
    "applic_df = applic_df.drop(['Issue Date'], axis = 1)"
   ]
  },
  {
   "cell_type": "code",
   "execution_count": 11,
   "metadata": {},
   "outputs": [],
   "source": [
    "def calculate_age(born):\n",
    "    today = date.today()\n",
    "    return today.year - born.year - ((today.month, today.day) < (born.month, born.day))"
   ]
  },
  {
   "cell_type": "code",
   "execution_count": 12,
   "metadata": {},
   "outputs": [],
   "source": [
    "ages = []\n",
    "for i, value in enumerate(applic_df['Date of Birth']):\n",
    "    try:\n",
    "        ages.append(calculate_age(datetime.datetime.strptime(applic_df['Date of Birth'][i], '%m.%d.%Y')))\n",
    "    except:\n",
    "        ages.append(calculate_age(value))\n",
    "        \n",
    "applic_df['age'] = ages"
   ]
  },
  {
   "cell_type": "code",
   "execution_count": 13,
   "metadata": {},
   "outputs": [],
   "source": [
    "for i, value in enumerate(applic_df['application_date']):\n",
    "    try:\n",
    "        applic_df['application_date'].loc[i] = datetime.date.strftime(datetime.datetime.strptime(value, '%m.%d.%Y'), \"%Y-%m-%d\")\n",
    "    except:\n",
    "        applic_df['application_date'].loc[i] = (str(applic_df['application_date'][i].year) + \n",
    "                                                '-' + str(applic_df['application_date'][i].month) + '-' + \n",
    "                                                str(applic_df['application_date'][i].day))"
   ]
  },
  {
   "cell_type": "code",
   "execution_count": 14,
   "metadata": {},
   "outputs": [],
   "source": [
    "applic_df = applic_df.where((pd.notnull(applic_df)), None)"
   ]
  },
  {
   "cell_type": "code",
   "execution_count": 15,
   "metadata": {},
   "outputs": [],
   "source": [
    "applic_df = applic_df.drop(['Date of Birth'], axis = 1)"
   ]
  },
  {
   "cell_type": "code",
   "execution_count": 54,
   "metadata": {},
   "outputs": [],
   "source": [
    "cnx = mysql.connector.connect(host = 'localhost', database = database, user = user)\n",
    "cursor = cnx.cursor(buffered=True)\n",
    "\n",
    "cursor.execute(\"\"\"CREATE TABLE IF NOT EXISTS applications \n",
    "(id INT, \n",
    "income INT, \n",
    "income_type VARCHAR(30), \n",
    "housing VARCHAR (30), \n",
    "age_of_car INT,  \n",
    "children INT,\n",
    "house_ownership VARCHAR(30), \n",
    "family INT,\n",
    "marital_status VARCHAR(30), \n",
    "gender VARCHAR(30),\n",
    "employed_by VARCHAR(30), \n",
    "education VARCHAR(30),\n",
    "position VARCHAR(30),\n",
    "application_date DATE,\n",
    "age INT,\n",
    "PRIMARY KEY (id)) ENGINE=INNODB\"\"\")"
   ]
  },
  {
   "cell_type": "code",
   "execution_count": 55,
   "metadata": {},
   "outputs": [],
   "source": [
    "# заполняем значениями таблицу applications\n",
    "sql = \"INSERT INTO applications VALUES (%s, %s, %s, %s, %s, %s, %s, %s, %s, %s, %s, %s, %s, %s, %s)\"\n",
    "for i in range(0, applic_df.shape[0]):\n",
    "    val = (int(applic_df.iloc[i]['Identity Number']), applic_df.iloc[i]['Income'], applic_df.iloc[i]['Income Type'],\n",
    "           applic_df.iloc[i]['Housing'], applic_df.iloc[i]['Age of Car (if owned)'], applic_df.iloc[i]['Children'], \n",
    "           applic_df.iloc[i]['House ownership'], applic_df.iloc[i]['Family'], applic_df.iloc[i]['Marital Status'], \n",
    "           applic_df.iloc[i]['Gender'], applic_df.iloc[i]['Employed By'], applic_df.iloc[i]['Education'], \n",
    "           applic_df.iloc[i]['Position'], applic_df.iloc[i]['application_date'], int(applic_df.iloc[i]['age']))\n",
    "    cursor.execute(sql, val)\n",
    "\n",
    "    cnx.commit()"
   ]
  },
  {
   "cell_type": "markdown",
   "metadata": {},
   "source": [
    "## Contracts"
   ]
  },
  {
   "cell_type": "code",
   "execution_count": 18,
   "metadata": {},
   "outputs": [],
   "source": [
    "df_contract = pd.read_excel(my_path + '/contracts/' + contracts[0], header = None, usecols = [0, 4, 5])"
   ]
  },
  {
   "cell_type": "code",
   "execution_count": 19,
   "metadata": {},
   "outputs": [],
   "source": [
    "column_values_contracts = [df_contract[0][4], df_contract[0][6], df_contract[0][8], \n",
    "                           df_contract[1][4], df_contract[1][6], df_contract[1][8], 'contract_date']"
   ]
  },
  {
   "cell_type": "code",
   "execution_count": 20,
   "metadata": {},
   "outputs": [],
   "source": [
    "values_contracts = []\n",
    "for i in contracts:\n",
    "    df = pd.read_excel(my_path + '/contracts/' + i, header = None, usecols = [0, 4, 5])\n",
    "    values_contracts.append((df[0][5], df[0][7], df[0][9], df[1][5], df[1][7], df[1][9], df[2][1]))"
   ]
  },
  {
   "cell_type": "code",
   "execution_count": 21,
   "metadata": {},
   "outputs": [
    {
     "data": {
      "text/html": [
       "<div>\n",
       "<style scoped>\n",
       "    .dataframe tbody tr th:only-of-type {\n",
       "        vertical-align: middle;\n",
       "    }\n",
       "\n",
       "    .dataframe tbody tr th {\n",
       "        vertical-align: top;\n",
       "    }\n",
       "\n",
       "    .dataframe thead th {\n",
       "        text-align: right;\n",
       "    }\n",
       "</style>\n",
       "<table border=\"1\" class=\"dataframe\">\n",
       "  <thead>\n",
       "    <tr style=\"text-align: right;\">\n",
       "      <th></th>\n",
       "      <th>Identity Number</th>\n",
       "      <th>Amount</th>\n",
       "      <th>Term (month)</th>\n",
       "      <th>Contract Number</th>\n",
       "      <th>Type</th>\n",
       "      <th>Annuity</th>\n",
       "      <th>contract_date</th>\n",
       "    </tr>\n",
       "  </thead>\n",
       "  <tbody>\n",
       "    <tr>\n",
       "      <th>0</th>\n",
       "      <td>100009</td>\n",
       "      <td>1560726.0</td>\n",
       "      <td>41</td>\n",
       "      <td>100022</td>\n",
       "      <td>Cash loans</td>\n",
       "      <td>41301.0</td>\n",
       "      <td>2015-02-11 00:00:00</td>\n",
       "    </tr>\n",
       "    <tr>\n",
       "      <th>1</th>\n",
       "      <td>100047</td>\n",
       "      <td>1193580.0</td>\n",
       "      <td>37</td>\n",
       "      <td>100052</td>\n",
       "      <td>Cash loans</td>\n",
       "      <td>35028.0</td>\n",
       "      <td>08.30.2016</td>\n",
       "    </tr>\n",
       "    <tr>\n",
       "      <th>2</th>\n",
       "      <td>100025</td>\n",
       "      <td>1132573.5</td>\n",
       "      <td>33</td>\n",
       "      <td>100068</td>\n",
       "      <td>Cash loans</td>\n",
       "      <td>37561.5</td>\n",
       "      <td>12.30.2018</td>\n",
       "    </tr>\n",
       "    <tr>\n",
       "      <th>3</th>\n",
       "      <td>100064</td>\n",
       "      <td>298728.0</td>\n",
       "      <td>22</td>\n",
       "      <td>100113</td>\n",
       "      <td>Cash loans</td>\n",
       "      <td>15381.0</td>\n",
       "      <td>02.19.2018</td>\n",
       "    </tr>\n",
       "    <tr>\n",
       "      <th>4</th>\n",
       "      <td>100023</td>\n",
       "      <td>544491.0</td>\n",
       "      <td>34</td>\n",
       "      <td>100122</td>\n",
       "      <td>Cash loans</td>\n",
       "      <td>17563.5</td>\n",
       "      <td>07.31.2016</td>\n",
       "    </tr>\n",
       "  </tbody>\n",
       "</table>\n",
       "</div>"
      ],
      "text/plain": [
       "   Identity Number     Amount  Term (month)  Contract Number        Type  \\\n",
       "0           100009  1560726.0            41           100022  Cash loans   \n",
       "1           100047  1193580.0            37           100052  Cash loans   \n",
       "2           100025  1132573.5            33           100068  Cash loans   \n",
       "3           100064   298728.0            22           100113  Cash loans   \n",
       "4           100023   544491.0            34           100122  Cash loans   \n",
       "\n",
       "   Annuity        contract_date  \n",
       "0  41301.0  2015-02-11 00:00:00  \n",
       "1  35028.0           08.30.2016  \n",
       "2  37561.5           12.30.2018  \n",
       "3  15381.0           02.19.2018  \n",
       "4  17563.5           07.31.2016  "
      ]
     },
     "execution_count": 21,
     "metadata": {},
     "output_type": "execute_result"
    }
   ],
   "source": [
    "contract_df = pd.DataFrame(data = values_contracts, columns = column_values_contracts)\n",
    "contract_df.head(5)"
   ]
  },
  {
   "cell_type": "code",
   "execution_count": 22,
   "metadata": {},
   "outputs": [],
   "source": [
    "for i, value in enumerate(contract_df['contract_date']):\n",
    "    try:\n",
    "        contract_df['contract_date'].loc[i] = datetime.date.strftime(datetime.datetime.strptime(value, '%m.%d.%Y'), \"%Y-%m-%d\")\n",
    "    except:\n",
    "        contract_df['contract_date'].loc[i] = (str(contract_df['contract_date'][i].year) + \n",
    "                                                '-' + str(contract_df['contract_date'][i].month) + '-' + \n",
    "                                                str(contract_df['contract_date'][i].day))"
   ]
  },
  {
   "cell_type": "code",
   "execution_count": 23,
   "metadata": {},
   "outputs": [],
   "source": [
    "contract_df = contract_df.where((pd.notnull(contract_df)), None)"
   ]
  },
  {
   "cell_type": "code",
   "execution_count": 24,
   "metadata": {},
   "outputs": [],
   "source": [
    "cnx.close()"
   ]
  },
  {
   "cell_type": "code",
   "execution_count": 56,
   "metadata": {},
   "outputs": [],
   "source": [
    "cnx = mysql.connector.connect(host = 'localhost', database = database, user = user)\n",
    "cursor = cnx.cursor(buffered=True)\n",
    "\n",
    "cursor.execute(\"\"\"CREATE TABLE IF NOT EXISTS contracts \n",
    "(id INT, \n",
    "amount INT, \n",
    "term_month INT, \n",
    "contract_number INT, \n",
    "type VARCHAR(30), \n",
    "annuity INT, \n",
    "contract_date DATE,\n",
    "PRIMARY KEY (contract_number),\n",
    "FOREIGN KEY (id) REFERENCES applications(id)) ENGINE=INNODB \"\"\")"
   ]
  },
  {
   "cell_type": "code",
   "execution_count": 57,
   "metadata": {},
   "outputs": [
    {
     "name": "stdout",
     "output_type": "stream",
     "text": [
      "Нет заявки с id = 100002, такой контракт не передаётся в базу\n"
     ]
    }
   ],
   "source": [
    "sql = \"INSERT INTO contracts VALUES (%s, %s, %s, %s, %s, %s, %s)\"\n",
    "for i in range(0, contract_df.shape[0]):\n",
    "    val = (int(contract_df.iloc[i]['Identity Number']), contract_df.iloc[i]['Amount'], int(contract_df.iloc[i]['Term (month)']),\n",
    "           int(contract_df.iloc[i]['Contract Number']), contract_df.iloc[i]['Type'], contract_df.iloc[i]['Annuity'], \n",
    "           contract_df.iloc[i]['contract_date'])\n",
    "    try:\n",
    "        cursor.execute(sql, val)\n",
    "    except:\n",
    "        print(\"Нет заявки с id = %d, такой контракт не передаётся в базу\" %contract_df['Identity Number'][i])\n",
    "\n",
    "    cnx.commit()\n",
    "\n",
    "\n"
   ]
  },
  {
   "cell_type": "markdown",
   "metadata": {},
   "source": [
    "## Payments"
   ]
  },
  {
   "cell_type": "code",
   "execution_count": 27,
   "metadata": {},
   "outputs": [
    {
     "data": {
      "text/html": [
       "<div>\n",
       "<style scoped>\n",
       "    .dataframe tbody tr th:only-of-type {\n",
       "        vertical-align: middle;\n",
       "    }\n",
       "\n",
       "    .dataframe tbody tr th {\n",
       "        vertical-align: top;\n",
       "    }\n",
       "\n",
       "    .dataframe thead th {\n",
       "        text-align: right;\n",
       "    }\n",
       "</style>\n",
       "<table border=\"1\" class=\"dataframe\">\n",
       "  <thead>\n",
       "    <tr style=\"text-align: right;\">\n",
       "      <th></th>\n",
       "      <th>Contract Number</th>\n",
       "      <th>Date</th>\n",
       "      <th>Amount Due</th>\n",
       "      <th>Amount Paid</th>\n",
       "    </tr>\n",
       "  </thead>\n",
       "  <tbody>\n",
       "    <tr>\n",
       "      <th>0</th>\n",
       "      <td>100875</td>\n",
       "      <td>2016-04-05</td>\n",
       "      <td>24700.5</td>\n",
       "      <td>24700.5</td>\n",
       "    </tr>\n",
       "    <tr>\n",
       "      <th>1</th>\n",
       "      <td>100875</td>\n",
       "      <td>2016-05-05</td>\n",
       "      <td>24700.5</td>\n",
       "      <td>24700.5</td>\n",
       "    </tr>\n",
       "    <tr>\n",
       "      <th>2</th>\n",
       "      <td>100875</td>\n",
       "      <td>2016-06-05</td>\n",
       "      <td>24700.5</td>\n",
       "      <td>0.0</td>\n",
       "    </tr>\n",
       "    <tr>\n",
       "      <th>3</th>\n",
       "      <td>100875</td>\n",
       "      <td>2016-07-05</td>\n",
       "      <td>24700.5</td>\n",
       "      <td>0.0</td>\n",
       "    </tr>\n",
       "    <tr>\n",
       "      <th>4</th>\n",
       "      <td>100875</td>\n",
       "      <td>2016-08-05</td>\n",
       "      <td>24700.5</td>\n",
       "      <td>74101.5</td>\n",
       "    </tr>\n",
       "  </tbody>\n",
       "</table>\n",
       "</div>"
      ],
      "text/plain": [
       "   Contract Number       Date  Amount Due  Amount Paid\n",
       "0           100875 2016-04-05     24700.5      24700.5\n",
       "1           100875 2016-05-05     24700.5      24700.5\n",
       "2           100875 2016-06-05     24700.5          0.0\n",
       "3           100875 2016-07-05     24700.5          0.0\n",
       "4           100875 2016-08-05     24700.5      74101.5"
      ]
     },
     "execution_count": 27,
     "metadata": {},
     "output_type": "execute_result"
    }
   ],
   "source": [
    "payments = pd.read_excel(my_path+\"/payments.xls\")\n",
    "payments.head(5)"
   ]
  },
  {
   "cell_type": "code",
   "execution_count": 58,
   "metadata": {},
   "outputs": [],
   "source": [
    "cnx = mysql.connector.connect(host = 'localhost', database = database, user = user)\n",
    "cursor = cnx.cursor(buffered=True)\n",
    "\n",
    "cursor.execute(\"\"\"CREATE TABLE IF NOT EXISTS payments \n",
    "(contract_number INT, \n",
    "payment_date DATE, \n",
    "amount_due DECIMAL(18,2), \n",
    "amount_paid DECIMAL(18,2),\n",
    "FOREIGN KEY (contract_number) REFERENCES contracts(contract_number))\"\"\")"
   ]
  },
  {
   "cell_type": "code",
   "execution_count": 59,
   "metadata": {},
   "outputs": [
    {
     "name": "stdout",
     "output_type": "stream",
     "text": [
      "Нет контракта с contract_number = 100875, такой платёж не передаётся в базу\n",
      "Нет контракта с contract_number = 100875, такой платёж не передаётся в базу\n",
      "Нет контракта с contract_number = 100875, такой платёж не передаётся в базу\n",
      "Нет контракта с contract_number = 100875, такой платёж не передаётся в базу\n",
      "Нет контракта с contract_number = 100875, такой платёж не передаётся в базу\n",
      "Нет контракта с contract_number = 100875, такой платёж не передаётся в базу\n",
      "Нет контракта с contract_number = 100875, такой платёж не передаётся в базу\n",
      "Нет контракта с contract_number = 100875, такой платёж не передаётся в базу\n",
      "Нет контракта с contract_number = 100875, такой платёж не передаётся в базу\n",
      "Нет контракта с contract_number = 100875, такой платёж не передаётся в базу\n",
      "Нет контракта с contract_number = 100875, такой платёж не передаётся в базу\n",
      "Нет контракта с contract_number = 100875, такой платёж не передаётся в базу\n",
      "Нет контракта с contract_number = 100875, такой платёж не передаётся в базу\n"
     ]
    }
   ],
   "source": [
    "sql = \"INSERT INTO payments VALUES (%s, %s, %s, %s)\"\n",
    "for i in range(0, payments.shape[0]):\n",
    "    val = (int(payments.iloc[i]['Contract Number']), payments.iloc[i]['Date'], payments.iloc[i]['Amount Due'],\n",
    "                payments.iloc[i]['Amount Paid'])\n",
    "    try:\n",
    "        cursor.execute(sql, val)\n",
    "    except:\n",
    "        print(\"Нет контракта с contract_number = %d, такой платёж не передаётся в базу\" %payments['Contract Number'][i])\n",
    "cnx.commit()"
   ]
  },
  {
   "cell_type": "markdown",
   "metadata": {},
   "source": [
    "#### Блок Лапшовой Полины"
   ]
  },
  {
   "cell_type": "markdown",
   "metadata": {},
   "source": [
    "## Кодировка текстовых полей"
   ]
  },
  {
   "cell_type": "code",
   "execution_count": 60,
   "metadata": {},
   "outputs": [],
   "source": [
    "cnx = mysql.connector.connect(host = 'localhost', database = database, user = user)\n",
    "cursor = cnx.cursor(buffered=True)\n",
    "\n",
    "def encoding_and_creating_dictionary(table):\n",
    "    le = preprocessing.LabelEncoder()\n",
    "    # создаём таблицу для словаря\n",
    "    cursor.execute(\"\"\"CREATE TABLE {0}_dict (column_name VARCHAR(100), category VARCHAR(100), encoding INT)\"\"\".format(table))\n",
    "    # кодируем все текстовые колонки\n",
    "    cursor.execute(\"\"\"SELECT COLUMN_NAME FROM INFORMATION_SCHEMA.COLUMNS\n",
    "    WHERE DATA_TYPE = 'varchar' AND TABLE_SCHEMA = '{0}'\n",
    "    AND TABLE_NAME = '{1}'\"\"\".format(database, table))\n",
    "    data_type_col = pd.DataFrame(cursor.fetchall())[0].tolist()\n",
    "\n",
    "    for i in range (0,len(data_type_col)):\n",
    "        cursor.execute(\"\"\"SELECT id, {0} FROM {1}\"\"\".format(data_type_col[i], table))\n",
    "        data = pd.DataFrame(cursor.fetchall())\n",
    "        data.columns = [x[0] for x in cursor.description]\n",
    "        data = data.dropna(how = 'any').reset_index(drop = True)\n",
    "        data['encoded'] = le.fit_transform(data[data_type_col[i]])\n",
    "        cursor.execute(\"\"\"ALTER TABLE {0} DROP {1}\"\"\".format(table, data_type_col[i]))\n",
    "        cursor.execute(\"\"\"ALTER TABLE {0} ADD {1} INT\"\"\".format(table, data_type_col[i]))\n",
    "        for j in range (0, len (data)):\n",
    "            cursor.execute(\"\"\"UPDATE {0} SET {1} = {2} \n",
    "            WHERE {0}.id={3}\"\"\".format(table, data_type_col[i], data['encoded'][j], data['id'][j]))\n",
    "            cnx.commit()\n",
    "            \n",
    "            \n",
    "        # создаём для текущей текстовой колонки таблицу с данными для заполнения словаря\n",
    "        to_dict = data[[data_type_col[i],'encoded']].drop_duplicates().sort_values(by = ['encoded']).reset_index(drop = True)\n",
    "        to_dict.columns = ['category','encoding']\n",
    "        to_dict['column_name'] = data_type_col[i]\n",
    "        to_dict = to_dict[['column_name', 'category', 'encoding']]\n",
    "\n",
    "        # заполняем подготовленными данными по текущему текстовому столбцу словарь кодировки\n",
    "        sql = \"\"\"INSERT INTO {0}_dict VALUES (%s, %s, %s)\"\"\".format(table)\n",
    "        for k in range(0, to_dict.shape[0]):\n",
    "            val = (to_dict.iloc[k][0], to_dict.iloc[k][1], int(to_dict.iloc[k][2]))\n",
    "            cursor.execute(sql, val)\n",
    "\n",
    "            cnx.commit()"
   ]
  },
  {
   "cell_type": "code",
   "execution_count": 61,
   "metadata": {
    "scrolled": true
   },
   "outputs": [],
   "source": [
    "encoding_and_creating_dictionary('applications')"
   ]
  },
  {
   "cell_type": "code",
   "execution_count": 62,
   "metadata": {},
   "outputs": [],
   "source": [
    "encoding_and_creating_dictionary('contracts')"
   ]
  },
  {
   "cell_type": "markdown",
   "metadata": {},
   "source": [
    "## Выгрузка данных в форматы csv"
   ]
  },
  {
   "cell_type": "code",
   "execution_count": 64,
   "metadata": {},
   "outputs": [],
   "source": [
    "cnx = mysql.connector.connect(host = 'localhost', database = database, user = user)\n",
    "cursor = cnx.cursor(buffered=True)\n",
    "\n",
    "applications_df = pd.read_sql_query(\"SELECT * FROM applications\", cnx)\n",
    "contracts_df = pd.read_sql_query(\"SELECT * FROM contracts\", cnx)\n",
    "applications_dict_df = pd.read_sql_query(\"SELECT * FROM applications_dict\", cnx)\n",
    "contracts_dict_df = pd.read_sql_query(\"SELECT * FROM contracts_dict\", cnx)"
   ]
  },
  {
   "cell_type": "code",
   "execution_count": 78,
   "metadata": {},
   "outputs": [],
   "source": [
    "applications_df.to_csv(my_path + '\\\\output_1\\\\applications_df.csv', header=True)\n",
    "contracts_df.to_csv(my_path + '\\\\output_1\\\\contracts_df.csv', header=True)\n",
    "applications_dict_df.to_csv(my_path + '\\\\output_1\\\\applications_dict_df.csv', header=True)\n",
    "contracts_dict_df.to_csv(my_path + '\\\\output_1\\\\contracts_dict_df.csv', header=True)"
   ]
  },
  {
   "cell_type": "code",
   "execution_count": null,
   "metadata": {},
   "outputs": [],
   "source": []
  }
 ],
 "metadata": {
  "kernelspec": {
   "display_name": "Python 3",
   "language": "python",
   "name": "python3"
  },
  "language_info": {
   "codemirror_mode": {
    "name": "ipython",
    "version": 3
   },
   "file_extension": ".py",
   "mimetype": "text/x-python",
   "name": "python",
   "nbconvert_exporter": "python",
   "pygments_lexer": "ipython3",
   "version": "3.7.1"
  }
 },
 "nbformat": 4,
 "nbformat_minor": 2
}
